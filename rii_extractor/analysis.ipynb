{
 "cells": [
  {
   "metadata": {},
   "cell_type": "markdown",
   "source": [
    "# Riichi Analysis\n",
    "\n",
    "The purpose of this notebook is to do analysis on when people tend to riichi. Data was extracted using main.py, and it contains every game hanchan yonma played in the tenhou phoenix room from 2009 to 2021. There are 1.4 million entries in our dataset, which contains the columns `num_discards` to represent how many discards they've done, `tile` to represent the tile they called riichi on, and `winning_tiles` which repesents their winning tiles. The tiles are integers 0-34 corresponding to man pin sou winds dragons.\n",
    "\n",
    "The main questions that I'm looking to answer are:\n",
    "- What's the average turn someone riichi's at?\n",
    "- Are tiles around the tile someone riichis dangerous (if it's kks tile vs not)?"
   ],
   "id": "72a6601e4708b4b2"
  },
  {
   "metadata": {},
   "cell_type": "markdown",
   "source": "## Imports",
   "id": "b2861ce3738175d5"
  },
  {
   "metadata": {
    "ExecuteTime": {
     "end_time": "2025-06-14T22:24:24.776734Z",
     "start_time": "2025-06-14T22:24:24.769086Z"
    }
   },
   "cell_type": "code",
   "source": [
    "# Imports\n",
    "import pandas as pd\n",
    "import sqlite3\n",
    "import matplotlib.pyplot as plt\n",
    "import seaborn as sns\n",
    "import os\n",
    "import json\n",
    "import numpy as np\n"
   ],
   "id": "63d02e436b868a74",
   "outputs": [],
   "execution_count": 2
  },
  {
   "metadata": {
    "ExecuteTime": {
     "end_time": "2025-06-14T22:24:34.371284Z",
     "start_time": "2025-06-14T22:24:24.844593Z"
    }
   },
   "cell_type": "code",
   "source": [
    "# Data Frame\n",
    "\n",
    "with sqlite3.connect(os.path.abspath(os.path.abspath('') + \"/../db/rii.db\")) as conn:\n",
    "    df = pd.read_sql(\"SELECT * FROM riichi\", conn)\n",
    "\n",
    "df[\"wt\"] = df[\"winning_tiles\"].map(json.loads)\n",
    "df = df.drop(columns=[\"winning_tiles\"])\n",
    "df = df.rename(columns={\"wt\": \"winning_tiles\"})"
   ],
   "id": "6c78df917a3303d9",
   "outputs": [],
   "execution_count": 3
  },
  {
   "metadata": {},
   "cell_type": "markdown",
   "source": "## Exploratory Data Analysis",
   "id": "47843c230cbaa02d"
  },
  {
   "metadata": {
    "ExecuteTime": {
     "end_time": "2025-06-14T22:24:34.407907Z",
     "start_time": "2025-06-14T22:24:34.374841Z"
    }
   },
   "cell_type": "code",
   "source": "df.head()",
   "id": "bea186c78637221e",
   "outputs": [
    {
     "data": {
      "text/plain": [
       "   log_id  num_discards  tile winning_tiles\n",
       "0       1            13    21          [16]\n",
       "1       1             7     7          [32]\n",
       "2       1            10    17      [13, 33]\n",
       "3       1             8     2  [10, 13, 16]\n",
       "4       1            11    22        [0, 3]"
      ],
      "text/html": [
       "<div>\n",
       "<style scoped>\n",
       "    .dataframe tbody tr th:only-of-type {\n",
       "        vertical-align: middle;\n",
       "    }\n",
       "\n",
       "    .dataframe tbody tr th {\n",
       "        vertical-align: top;\n",
       "    }\n",
       "\n",
       "    .dataframe thead th {\n",
       "        text-align: right;\n",
       "    }\n",
       "</style>\n",
       "<table border=\"1\" class=\"dataframe\">\n",
       "  <thead>\n",
       "    <tr style=\"text-align: right;\">\n",
       "      <th></th>\n",
       "      <th>log_id</th>\n",
       "      <th>num_discards</th>\n",
       "      <th>tile</th>\n",
       "      <th>winning_tiles</th>\n",
       "    </tr>\n",
       "  </thead>\n",
       "  <tbody>\n",
       "    <tr>\n",
       "      <th>0</th>\n",
       "      <td>1</td>\n",
       "      <td>13</td>\n",
       "      <td>21</td>\n",
       "      <td>[16]</td>\n",
       "    </tr>\n",
       "    <tr>\n",
       "      <th>1</th>\n",
       "      <td>1</td>\n",
       "      <td>7</td>\n",
       "      <td>7</td>\n",
       "      <td>[32]</td>\n",
       "    </tr>\n",
       "    <tr>\n",
       "      <th>2</th>\n",
       "      <td>1</td>\n",
       "      <td>10</td>\n",
       "      <td>17</td>\n",
       "      <td>[13, 33]</td>\n",
       "    </tr>\n",
       "    <tr>\n",
       "      <th>3</th>\n",
       "      <td>1</td>\n",
       "      <td>8</td>\n",
       "      <td>2</td>\n",
       "      <td>[10, 13, 16]</td>\n",
       "    </tr>\n",
       "    <tr>\n",
       "      <th>4</th>\n",
       "      <td>1</td>\n",
       "      <td>11</td>\n",
       "      <td>22</td>\n",
       "      <td>[0, 3]</td>\n",
       "    </tr>\n",
       "  </tbody>\n",
       "</table>\n",
       "</div>"
      ]
     },
     "execution_count": 4,
     "metadata": {},
     "output_type": "execute_result"
    }
   ],
   "execution_count": 4
  },
  {
   "metadata": {
    "ExecuteTime": {
     "end_time": "2025-06-14T22:24:34.516604Z",
     "start_time": "2025-06-14T22:24:34.410441Z"
    }
   },
   "cell_type": "code",
   "source": "df.info()",
   "id": "2afbd6e15297fce1",
   "outputs": [
    {
     "name": "stdout",
     "output_type": "stream",
     "text": [
      "<class 'pandas.core.frame.DataFrame'>\n",
      "RangeIndex: 1403034 entries, 0 to 1403033\n",
      "Data columns (total 4 columns):\n",
      " #   Column         Non-Null Count    Dtype \n",
      "---  ------         --------------    ----- \n",
      " 0   log_id         1403034 non-null  int64 \n",
      " 1   num_discards   1403034 non-null  int64 \n",
      " 2   tile           1403034 non-null  int64 \n",
      " 3   winning_tiles  1403034 non-null  object\n",
      "dtypes: int64(3), object(1)\n",
      "memory usage: 42.8+ MB\n"
     ]
    }
   ],
   "execution_count": 5
  },
  {
   "metadata": {
    "ExecuteTime": {
     "end_time": "2025-06-14T22:24:34.739172Z",
     "start_time": "2025-06-14T22:24:34.520436Z"
    }
   },
   "cell_type": "code",
   "source": "df.describe()",
   "id": "66feb03196c615da",
   "outputs": [
    {
     "data": {
      "text/plain": [
       "             log_id  num_discards          tile\n",
       "count  1.403034e+06  1.403034e+06  1.403034e+06\n",
       "mean   9.376356e+04  8.822359e+00  1.487935e+01\n",
       "std    5.418760e+04  3.091507e+00  9.091556e+00\n",
       "min    1.000000e+00  1.000000e+00  0.000000e+00\n",
       "25%    4.665200e+04  7.000000e+00  7.000000e+00\n",
       "50%    9.381800e+04  9.000000e+00  1.500000e+01\n",
       "75%    1.408400e+05  1.100000e+01  2.200000e+01\n",
       "max    1.873270e+05  1.900000e+01  3.300000e+01"
      ],
      "text/html": [
       "<div>\n",
       "<style scoped>\n",
       "    .dataframe tbody tr th:only-of-type {\n",
       "        vertical-align: middle;\n",
       "    }\n",
       "\n",
       "    .dataframe tbody tr th {\n",
       "        vertical-align: top;\n",
       "    }\n",
       "\n",
       "    .dataframe thead th {\n",
       "        text-align: right;\n",
       "    }\n",
       "</style>\n",
       "<table border=\"1\" class=\"dataframe\">\n",
       "  <thead>\n",
       "    <tr style=\"text-align: right;\">\n",
       "      <th></th>\n",
       "      <th>log_id</th>\n",
       "      <th>num_discards</th>\n",
       "      <th>tile</th>\n",
       "    </tr>\n",
       "  </thead>\n",
       "  <tbody>\n",
       "    <tr>\n",
       "      <th>count</th>\n",
       "      <td>1.403034e+06</td>\n",
       "      <td>1.403034e+06</td>\n",
       "      <td>1.403034e+06</td>\n",
       "    </tr>\n",
       "    <tr>\n",
       "      <th>mean</th>\n",
       "      <td>9.376356e+04</td>\n",
       "      <td>8.822359e+00</td>\n",
       "      <td>1.487935e+01</td>\n",
       "    </tr>\n",
       "    <tr>\n",
       "      <th>std</th>\n",
       "      <td>5.418760e+04</td>\n",
       "      <td>3.091507e+00</td>\n",
       "      <td>9.091556e+00</td>\n",
       "    </tr>\n",
       "    <tr>\n",
       "      <th>min</th>\n",
       "      <td>1.000000e+00</td>\n",
       "      <td>1.000000e+00</td>\n",
       "      <td>0.000000e+00</td>\n",
       "    </tr>\n",
       "    <tr>\n",
       "      <th>25%</th>\n",
       "      <td>4.665200e+04</td>\n",
       "      <td>7.000000e+00</td>\n",
       "      <td>7.000000e+00</td>\n",
       "    </tr>\n",
       "    <tr>\n",
       "      <th>50%</th>\n",
       "      <td>9.381800e+04</td>\n",
       "      <td>9.000000e+00</td>\n",
       "      <td>1.500000e+01</td>\n",
       "    </tr>\n",
       "    <tr>\n",
       "      <th>75%</th>\n",
       "      <td>1.408400e+05</td>\n",
       "      <td>1.100000e+01</td>\n",
       "      <td>2.200000e+01</td>\n",
       "    </tr>\n",
       "    <tr>\n",
       "      <th>max</th>\n",
       "      <td>1.873270e+05</td>\n",
       "      <td>1.900000e+01</td>\n",
       "      <td>3.300000e+01</td>\n",
       "    </tr>\n",
       "  </tbody>\n",
       "</table>\n",
       "</div>"
      ]
     },
     "execution_count": 6,
     "metadata": {},
     "output_type": "execute_result"
    }
   ],
   "execution_count": 6
  },
  {
   "metadata": {
    "ExecuteTime": {
     "end_time": "2025-06-14T22:24:36.615095Z",
     "start_time": "2025-06-14T22:24:34.741419Z"
    }
   },
   "cell_type": "code",
   "source": [
    "bins = [i for i in range(20)]\n",
    "\n",
    "sns.histplot(df[\"num_discards\"], bins=bins, discrete=True)\n",
    "plt.xlabel(\"Riichi Turns\")\n",
    "plt.ylabel(\"Count\")\n",
    "plt.title(\"Count vs Riichi Turns\")\n",
    "plt.xticks(bins)\n",
    "plt.show()"
   ],
   "id": "49f16e59caf467dc",
   "outputs": [
    {
     "data": {
      "text/plain": [
       "<Figure size 640x480 with 1 Axes>"
      ],
      "image/png": "[encoded data removed]"
     },
     "metadata": {},
     "output_type": "display_data"
    }
   ],
   "execution_count": 7
  },
  {
   "metadata": {
    "ExecuteTime": {
     "end_time": "2025-06-14T22:24:39.182802Z",
     "start_time": "2025-06-14T22:24:36.618141Z"
    }
   },
   "cell_type": "code",
   "source": [
    "bins = [i for i in range(20)]\n",
    "sns.ecdfplot(data=df[\"num_discards\"], stat=\"proportion\")\n",
    "plt.xlabel(\"Riichi Turns\")\n",
    "plt.ylabel(\"Cumulative Count\")\n",
    "plt.title(\"Cumulative Count vs Riichi Turns\")\n",
    "plt.xticks(bins)\n",
    "plt.axhline(0.5, color='red', linestyle='--')\n",
    "\n",
    "plt.show()"
   ],
   "id": "ee86fcf77a3bc8f4",
   "outputs": [
    {
     "data": {
      "text/plain": [
       "<Figure size 640x480 with 1 Axes>"
      ],
      "image/png": "[encoded data removed]"
     },
     "metadata": {},
     "output_type": "display_data"
    }
   ],
   "execution_count": 8
  },
  {
   "metadata": {},
   "cell_type": "markdown",
   "source": "## Proximate Tile Deal In Rate",
   "id": "663ddabd13cc57f4"
  },
  {
   "metadata": {
    "ExecuteTime": {
     "end_time": "2025-06-14T22:25:02.094674Z",
     "start_time": "2025-06-14T22:24:39.186840Z"
    }
   },
   "cell_type": "code",
   "source": [
    "def are_tiles_close(tile1, tile2, dist=2):\n",
    "    suit1 = tile1 // 9\n",
    "    suit2 = tile2 // 9\n",
    "\n",
    "    return suit1 == suit2 and suit1 != 3 and abs(tile1 - tile2) <= dist\n",
    "\n",
    "df['has_close_tile'] = df.apply(lambda row: any(map(lambda x: are_tiles_close(row[\"tile\"], x), row[\"winning_tiles\"])), axis=1)"
   ],
   "id": "182877de9bc8e6f5",
   "outputs": [],
   "execution_count": 9
  },
  {
   "metadata": {
    "ExecuteTime": {
     "end_time": "2025-06-14T22:25:02.690869Z",
     "start_time": "2025-06-14T22:25:02.097043Z"
    }
   },
   "cell_type": "code",
   "source": [
    "def is_kks_tile(tile):\n",
    "    suit = tile // 9\n",
    "    num = tile % 9\n",
    "    \n",
    "    return suit == 3 or num == 0 or num == 8\n",
    "\n",
    "df['rii_tile_safe'] = df['tile'].map(is_kks_tile)"
   ],
   "id": "2e7c196bf04acef5",
   "outputs": [],
   "execution_count": 10
  },
  {
   "metadata": {
    "ExecuteTime": {
     "end_time": "2025-06-14T22:37:05.657258Z",
     "start_time": "2025-06-14T22:37:05.538580Z"
    }
   },
   "cell_type": "code",
   "source": [
    "df_non_honor = df.loc[df['tile'] < 27]\n",
    "\n",
    "prop_all_incl = df['has_close_tile'].sum() / df.shape[0]\n",
    "prop_all = df_non_honor['has_close_tile'].sum() / df_non_honor.shape[0]\n",
    "prop_nonsafe = ((df_non_honor['has_close_tile']) & (~df_non_honor['rii_tile_safe'])).sum() / (~df_non_honor['rii_tile_safe']).sum()\n",
    "prop_safe = (df_non_honor['has_close_tile'] & df_non_honor['rii_tile_safe']).sum() / df_non_honor['rii_tile_safe'].sum()\n",
    "\n",
    "print(f\"Percentage All: {round(prop_all * 100, 2)}%\")\n",
    "print(f\"Percentage Nonsafe: {round(prop_nonsafe * 100, 2)}%\")\n",
    "print(f\"Percentage Safe: {round(prop_safe * 100, 2)}%\")\n",
    "print(f\"Percentage All (incl honors): {round(prop_all_incl * 100, 2)}%\")"
   ],
   "id": "ca1a109c56027a09",
   "outputs": [
    {
     "name": "stdout",
     "output_type": "stream",
     "text": [
      "Percentage All: 20.11%\n",
      "Percentage Nonsafe: 20.91%\n",
      "Percentage Safe: 16.2%\n",
      "Percentage All (incl honors): 17.84%\n"
     ]
    }
   ],
   "execution_count": 20
  },
  {
   "metadata": {},
   "cell_type": "markdown",
   "source": [
    "In general, if the discard tile is non honor, there seems to be around a **20.11%** chance that a tile close to the riichi tile will deal in. If the tile is 2-8, then there's around a **20.91%** chance that a tile close to the riichi tile will deal in, and if the tile is 1 or 9, then there's around a **16.2%** chance that a tile close to it will deal in. \n",
    "\n",
    "Overall, if we include honors, then there's a **17.84%** chance a tile close to the discarded tile will deal in."
   ],
   "id": "6a1757207fad708a"
  },
  {
   "metadata": {
    "ExecuteTime": {
     "end_time": "2025-06-14T22:57:49.582429Z",
     "start_time": "2025-06-14T22:57:39.034873Z"
    }
   },
   "cell_type": "code",
   "source": [
    "STARTING_SEED = 1\n",
    "\n",
    "def simulate(waits, non_honor=True):\n",
    "    tile = np.random.randint(0, 34 - 7 * non_honor)\n",
    "    return any(map(lambda x: are_tiles_close(tile, x), waits))\n",
    "\n",
    "np.random.seed(STARTING_SEED)\n",
    "\n",
    "iterations = 1_000_000\n",
    "\n",
    "samples = df.sample(n=iterations, replace=True, random_state=STARTING_SEED)\n",
    "samples['close'] = df['winning_tiles'].map(simulate)\n",
    "\n",
    "prop = samples['close'].sum() / iterations\n",
    "print(f\"Percentage: {prop * 100:.2f}%\")"
   ],
   "id": "d0020c55ed398c88",
   "outputs": [
    {
     "name": "stdout",
     "output_type": "stream",
     "text": [
      "Percentage: 23.49%\n"
     ]
    }
   ],
   "execution_count": 28
  },
  {
   "metadata": {},
   "cell_type": "markdown",
   "source": "Assuming we discard a random tile, there is around a **23.49%** chance that a tile close to the riichi tile will deal in. ",
   "id": "b0b6b978dc2f0712"
  }
 ],
 "metadata": {
  "kernelspec": {
   "display_name": "Python 3",
   "language": "python",
   "name": "python3"
  },
  "language_info": {
   "codemirror_mode": {
    "name": "ipython",
    "version": 2
   },
   "file_extension": ".py",
   "mimetype": "text/x-python",
   "name": "python",
   "nbconvert_exporter": "python",
   "pygments_lexer": "ipython2",
   "version": "2.7.6"
  }
 },
 "nbformat": 4,
 "nbformat_minor": 5
}
